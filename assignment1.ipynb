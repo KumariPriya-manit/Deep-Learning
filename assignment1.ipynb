{
 "cells": [
  {
   "cell_type": "code",
   "execution_count": 1,
   "metadata": {},
   "outputs": [
    {
     "name": "stdout",
     "output_type": "stream",
     "text": [
      "AND(0 , 0 ) = 0\n",
      "AND(0 , 1 ) = 0\n",
      "AND(1 , 0 ) = 0\n",
      "AND(1 , 1 ) = 1\n"
     ]
    },
    {
     "data": {
      "text/plain": [
       "[]"
      ]
     },
     "execution_count": 1,
     "metadata": {},
     "output_type": "execute_result"
    },
    {
     "data": {
      "image/png": "[encoded data removed]",
      "text/plain": [
       "<Figure size 432x288 with 1 Axes>"
      ]
     },
     "metadata": {
      "needs_background": "light"
     },
     "output_type": "display_data"
    }
   ],
   "source": [
    "\"\"\"Implementing AND Gate through perceptron\"\"\"\n",
    "\n",
    "import numpy as np\n",
    "import matplotlib.pyplot as plt\n",
    "\n",
    "# Define unit step function\n",
    "def UnitStep(v):\n",
    "    if v > 0:\n",
    "        return 1\n",
    "    else:\n",
    "        return 0\n",
    "\n",
    "# Design Perceptron Model\n",
    "def PerceptronModel(x,w,b):\n",
    "    v = np.dot(w,x) + b\n",
    "    y = UnitStep(v)\n",
    "    return y\n",
    "\n",
    "# AND Logic Function\n",
    "# w1 = 1, w2 = 1 and b = -1\n",
    "def AND_logic(x):\n",
    "    w = np.array([1,1])\n",
    "    b = -1\n",
    "    return PerceptronModel(x,w,b)\n",
    "\n",
    "# Perceptron model\n",
    "test1 = np.array([0,0])\n",
    "test2 = np.array([0,1])\n",
    "test3 = np.array([1,0])\n",
    "test4 = np.array([1,1])\n",
    "\n",
    "print(\"AND({} , {} ) = {}\".format(0,0, AND_logic(test1)))\n",
    "print(\"AND({} , {} ) = {}\".format(0,1, AND_logic(test2)))\n",
    "print(\"AND({} , {} ) = {}\".format(1,0, AND_logic(test3)))\n",
    "print(\"AND({} , {} ) = {}\".format(1,1, AND_logic(test4)))\n",
    "\n",
    "# Plotting the perceptron\n",
    "fig, ax = plt.subplots()\n",
    "X = np.arange(-0.2, 1.4, 0.1)\n",
    "ax.scatter(0,0,color = \"red\")\n",
    "ax.scatter(0,1,color = \"red\")\n",
    "ax.scatter(1,0,color = \"red\")\n",
    "ax.scatter(1,1,color = \"green\")\n",
    "ax.set_xlim([-0.2, 1.4])\n",
    "ax.set_ylim([-0.1 , 1.1])\n",
    "m = -1\n",
    "c = 1.2\n",
    "ax.plot(X, m * X + c)\n",
    "plt.plot()"
   ]
  },
  {
   "cell_type": "code",
   "execution_count": null,
   "metadata": {},
   "outputs": [],
   "source": []
  }
 ],
 "metadata": {
  "kernelspec": {
   "display_name": "Python 3",
   "language": "python",
   "name": "python3"
  },
  "language_info": {
   "codemirror_mode": {
    "name": "ipython",
    "version": 3
   },
   "file_extension": ".py",
   "mimetype": "text/x-python",
   "name": "python",
   "nbconvert_exporter": "python",
   "pygments_lexer": "ipython3",
   "version": "3.8.3"
  }
 },
 "nbformat": 4,
 "nbformat_minor": 4
}
